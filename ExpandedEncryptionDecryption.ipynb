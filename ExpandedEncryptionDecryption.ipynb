{
 "cells": [
  {
   "cell_type": "code",
   "execution_count": 1,
   "metadata": {},
   "outputs": [],
   "source": [
    "import random\n",
    "import pandas as pd\n",
    "import re"
   ]
  },
  {
   "cell_type": "code",
   "execution_count": 2,
   "metadata": {},
   "outputs": [],
   "source": [
    "# We generate unique pseudobinary equivalences\n",
    "unique_equivalences = set()\n",
    "code_generator=[str(1), str(0), str(1), str(0), str(1),\n",
    "                str(0), str(1), str(0), str(1), str(0)]\n",
    "# We generate the list of encrypted characters\n",
    "while len(unique_equivalences)<95:\n",
    "    random.shuffle(code_generator)\n",
    "    shuffled=(\"\".join(code_generator))\n",
    "    unique_equivalences.add(shuffled)\n",
    "equivalences=list(unique_equivalences)"
   ]
  },
  {
   "cell_type": "code",
   "execution_count": 3,
   "metadata": {},
   "outputs": [],
   "source": [
    "englishcodes=list(range(32,127))\n",
    "# We generate a dictionary with the equivalences character = pseudobinary\n",
    "english_encrypting={}\n",
    "for i in range(95):\n",
    "    english_encrypting[chr(englishcodes[i])]=equivalences[i]\n",
    "# We generate a dictionary with the equivalences pseudobinary = character\n",
    "english_decrypting=dict()\n",
    "for i in range(95):\n",
    "    english_decrypting[equivalences[i]]=chr(englishcodes[i])"
   ]
  },
  {
   "cell_type": "code",
   "execution_count": 4,
   "metadata": {},
   "outputs": [],
   "source": [
    "# We define the encrypting function\n",
    "def encryption_process():\n",
    "    text2encrypt = input(\"What text do you wish to encrypt? \")\n",
    "    letter_list = [letter for letter in text2encrypt]\n",
    "    encrypted_characters = [english_encrypting[letter] \n",
    "                           for letter in letter_list]\n",
    "    encrypted_output = (\"\".join(encrypted_characters))\n",
    "    return encrypted_output"
   ]
  },
  {
   "cell_type": "code",
   "execution_count": 5,
   "metadata": {},
   "outputs": [],
   "source": [
    "# We define the decrypting funtion\n",
    "def decryption_process():\n",
    "    text2decrypt = input('What text do you wish to decrypt? ')\n",
    "    code_list = [text2decrypt[i:(i+10)] for i in range(0, len(text2decrypt), 10)]\n",
    "    decrypted_letter = [english_decrypting[code] for code in code_list]\n",
    "    decrypted_output = (\"\".join(decrypted_letter))\n",
    "    return decrypted_output"
   ]
  },
  {
   "cell_type": "code",
   "execution_count": 41,
   "metadata": {},
   "outputs": [],
   "source": [
    "# We import the database with previously done encryptions\n",
    "database = pd.read_csv('database.csv')"
   ]
  },
  {
   "cell_type": "code",
   "execution_count": 35,
   "metadata": {},
   "outputs": [],
   "source": [
    "# We define the registering or logging in function\n",
    "def flow():\n",
    "    database = pd.read_csv('database.csv')\n",
    "    registered_user = \"\"\n",
    "    while (registered_user != 'log in') & (registered_user != 'register'):\n",
    "        registered_user = str(input('do you wish to log in or register? '))\n",
    "    # We check if the user wants to log in\n",
    "    if registered_user == 'log in':\n",
    "        # We ask the user to imput the password\n",
    "        password = str(input('please enter your password: '))\n",
    "        found_password = ''\n",
    "        while (found_password == '') | (found_password == 'Sorry, I did not find the password'):\n",
    "            found_password = 1\n",
    "            equivalences = password_finder(password)\n",
    "        # We generate a list with the most common ASCII codes in the English dictionary\n",
    "        englishcodes=list(range(32,127))\n",
    "        # We ask whether the user wants to encrypt or decrypt a message\n",
    "        action = ''\n",
    "        while (action != 'encrypt') & (action != 'decrypt'):\n",
    "            action = str(input('do you wish to encrypt or decrypt a message? '))\n",
    "        # If the user chooses to encrypt, we generate the encrypting dictionary and call the encrypting function\n",
    "        if action == 'encrypt':\n",
    "            english_encrypting={}\n",
    "            for i in range(95):\n",
    "                english_encrypting[chr(englishcodes[i])]=equivalences[i]\n",
    "            return encryption_process()\n",
    "        # If the user chooses to decrypt, we generate the decrypting dictionary and call the decrypting function\n",
    "        elif action == 'decrypt':\n",
    "            english_decrypting=dict()\n",
    "            for i in range(95):\n",
    "                english_decrypting[equivalences[i]]=chr(englishcodes[i])\n",
    "            return decryption_process()\n",
    "    elif registered_user == 'register':\n",
    "        password = str(input('please enter a password: '))\n",
    "        # We generate unique pseudobinary equivalences\n",
    "        unique_equivalences = set()\n",
    "        code_generator=[str(1), str(0), str(1), str(0), str(1),\n",
    "                        str(0), str(1), str(0), str(1), str(0)]\n",
    "        # We generate the list of encrypted characters\n",
    "        while len(unique_equivalences)<95:\n",
    "            random.shuffle(code_generator)\n",
    "            shuffled=(\"\".join(code_generator))\n",
    "            unique_equivalences.add(shuffled)\n",
    "        equivalences=list(unique_equivalences)\n",
    "        englishcodes=list(range(32,127))\n",
    "        # We generate a dictionary with the equivalences character = pseudobinary\n",
    "        english_encrypting={}\n",
    "        for i in range(95):\n",
    "            english_encrypting[chr(englishcodes[i])]=equivalences[i]\n",
    "        return encryption_process()\n",
    "        new_df = pd.DataFrame({'password':password,\n",
    "                               'coding':equivalences})\n",
    "        database = database + new_df\n",
    "        database.to_csv('database.csv')"
   ]
  },
  {
   "cell_type": "code",
   "execution_count": 39,
   "metadata": {},
   "outputs": [
    {
     "name": "stdout",
     "output_type": "stream",
     "text": [
      "do you wish to log in or register? log in\n",
      "please enter your password: hola\n",
      "do you wish to encrypt or decrypt a message? decrypt\n"
     ]
    },
    {
     "ename": "IndexError",
     "evalue": "string index out of range",
     "output_type": "error",
     "traceback": [
      "\u001b[1;31m---------------------------------------------------------------------------\u001b[0m",
      "\u001b[1;31mIndexError\u001b[0m                                Traceback (most recent call last)",
      "\u001b[1;32m<ipython-input-39-1bd46b69cd20>\u001b[0m in \u001b[0;36m<module>\u001b[1;34m\u001b[0m\n\u001b[1;32m----> 1\u001b[1;33m \u001b[0mflow\u001b[0m\u001b[1;33m(\u001b[0m\u001b[1;33m)\u001b[0m\u001b[1;33m\u001b[0m\u001b[1;33m\u001b[0m\u001b[0m\n\u001b[0m",
      "\u001b[1;32m<ipython-input-35-e6b6a3bf98de>\u001b[0m in \u001b[0;36mflow\u001b[1;34m()\u001b[0m\n\u001b[0;32m     29\u001b[0m             \u001b[0menglish_decrypting\u001b[0m\u001b[1;33m=\u001b[0m\u001b[0mdict\u001b[0m\u001b[1;33m(\u001b[0m\u001b[1;33m)\u001b[0m\u001b[1;33m\u001b[0m\u001b[1;33m\u001b[0m\u001b[0m\n\u001b[0;32m     30\u001b[0m             \u001b[1;32mfor\u001b[0m \u001b[0mi\u001b[0m \u001b[1;32min\u001b[0m \u001b[0mrange\u001b[0m\u001b[1;33m(\u001b[0m\u001b[1;36m95\u001b[0m\u001b[1;33m)\u001b[0m\u001b[1;33m:\u001b[0m\u001b[1;33m\u001b[0m\u001b[1;33m\u001b[0m\u001b[0m\n\u001b[1;32m---> 31\u001b[1;33m                 \u001b[0menglish_decrypting\u001b[0m\u001b[1;33m[\u001b[0m\u001b[0mequivalences\u001b[0m\u001b[1;33m[\u001b[0m\u001b[0mi\u001b[0m\u001b[1;33m]\u001b[0m\u001b[1;33m]\u001b[0m\u001b[1;33m=\u001b[0m\u001b[0mchr\u001b[0m\u001b[1;33m(\u001b[0m\u001b[0menglishcodes\u001b[0m\u001b[1;33m[\u001b[0m\u001b[0mi\u001b[0m\u001b[1;33m]\u001b[0m\u001b[1;33m)\u001b[0m\u001b[1;33m\u001b[0m\u001b[1;33m\u001b[0m\u001b[0m\n\u001b[0m\u001b[0;32m     32\u001b[0m             \u001b[1;32mreturn\u001b[0m \u001b[0mdecryption_process\u001b[0m\u001b[1;33m(\u001b[0m\u001b[1;33m)\u001b[0m\u001b[1;33m\u001b[0m\u001b[1;33m\u001b[0m\u001b[0m\n\u001b[0;32m     33\u001b[0m     \u001b[1;32melif\u001b[0m \u001b[0mregistered_user\u001b[0m \u001b[1;33m==\u001b[0m \u001b[1;34m'register'\u001b[0m\u001b[1;33m:\u001b[0m\u001b[1;33m\u001b[0m\u001b[1;33m\u001b[0m\u001b[0m\n",
      "\u001b[1;31mIndexError\u001b[0m: string index out of range"
     ]
    }
   ],
   "source": [
    "flow()"
   ]
  },
  {
   "cell_type": "code",
   "execution_count": 42,
   "metadata": {},
   "outputs": [
    {
     "data": {
      "text/html": [
       "<div>\n",
       "<style scoped>\n",
       "    .dataframe tbody tr th:only-of-type {\n",
       "        vertical-align: middle;\n",
       "    }\n",
       "\n",
       "    .dataframe tbody tr th {\n",
       "        vertical-align: top;\n",
       "    }\n",
       "\n",
       "    .dataframe thead th {\n",
       "        text-align: right;\n",
       "    }\n",
       "</style>\n",
       "<table border=\"1\" class=\"dataframe\">\n",
       "  <thead>\n",
       "    <tr style=\"text-align: right;\">\n",
       "      <th></th>\n",
       "      <th>password</th>\n",
       "      <th>coding</th>\n",
       "    </tr>\n",
       "  </thead>\n",
       "  <tbody>\n",
       "    <tr>\n",
       "      <th>0</th>\n",
       "      <td>test</td>\n",
       "      <td>['0000111110', '1100101010', '0110100101', '10...</td>\n",
       "    </tr>\n",
       "  </tbody>\n",
       "</table>\n",
       "</div>"
      ],
      "text/plain": [
       "  password                                             coding\n",
       "0     test  ['0000111110', '1100101010', '0110100101', '10..."
      ]
     },
     "execution_count": 42,
     "metadata": {},
     "output_type": "execute_result"
    }
   ],
   "source": [
    "database"
   ]
  },
  {
   "cell_type": "code",
   "execution_count": null,
   "metadata": {},
   "outputs": [],
   "source": []
  },
  {
   "cell_type": "code",
   "execution_count": null,
   "metadata": {},
   "outputs": [],
   "source": []
  },
  {
   "cell_type": "code",
   "execution_count": null,
   "metadata": {},
   "outputs": [],
   "source": []
  },
  {
   "cell_type": "markdown",
   "metadata": {},
   "source": [
    "discarded code\n",
    "\n",
    "\n",
    "        # We check if the inputed password is correct\n",
    "        while not (password in database['password']):\n",
    "            # If the password is not on our database, we ask again\n",
    "            password = str(input('please enter your password: '))\n",
    "        # If the password is in our database, we retrieve the encoding equivalences\n",
    "        equivalences = database.loc[database['password'] == password]['coding'][0]"
   ]
  },
  {
   "cell_type": "code",
   "execution_count": null,
   "metadata": {},
   "outputs": [],
   "source": []
  }
 ],
 "metadata": {
  "kernelspec": {
   "display_name": "Python 3",
   "language": "python",
   "name": "python3"
  },
  "language_info": {
   "codemirror_mode": {
    "name": "ipython",
    "version": 3
   },
   "file_extension": ".py",
   "mimetype": "text/x-python",
   "name": "python",
   "nbconvert_exporter": "python",
   "pygments_lexer": "ipython3",
   "version": "3.7.6"
  }
 },
 "nbformat": 4,
 "nbformat_minor": 4
}
