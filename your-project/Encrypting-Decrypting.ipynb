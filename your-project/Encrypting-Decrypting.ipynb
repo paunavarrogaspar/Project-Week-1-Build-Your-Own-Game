{
 "cells": [
  {
   "cell_type": "code",
   "execution_count": 2,
   "metadata": {},
   "outputs": [],
   "source": [
    "englishcodes=list(range(32,127))\n",
    "english_encrypting={}\n",
    "for i in range(95):\n",
    "    english_encrypting[chr(englishcodes[i])]=englishcodes[i]\n",
    "english_decrypting=dict()\n",
    "for i in range(95):\n",
    "    english_decrypting[englishcodes[i]]=chr(englishcodes[i])"
   ]
  },
  {
   "cell_type": "code",
   "execution_count": 3,
   "metadata": {},
   "outputs": [],
   "source": [
    "unique_equivalences = set()\n",
    "import random\n",
    "code_generator=[str(1), str(0), str(1), str(0), str(1), str(0), str(1), str(0), str(1), str(0)]"
   ]
  },
  {
   "cell_type": "code",
   "execution_count": 4,
   "metadata": {},
   "outputs": [],
   "source": [
    "while len(unique_equivalences)<95:\n",
    "    random.shuffle(code_generator)\n",
    "    shuffled=(\"\".join(code_generator))\n",
    "    unique_equivalences.add(shuffled)\n",
    "equivalences=list(unique_equivalences)"
   ]
  },
  {
   "cell_type": "code",
   "execution_count": 5,
   "metadata": {},
   "outputs": [],
   "source": [
    "rosetta_stone_decrypting={}\n",
    "for i in range(95):\n",
    "    rosetta_stone_decrypting[equivalences[i]]=englishcodes[i]\n",
    "rosetta_stone_encrypting={}\n",
    "for i in range(95):\n",
    "    rosetta_stone_encrypting[englishcodes[i]]=equivalences[i]"
   ]
  },
  {
   "cell_type": "code",
   "execution_count": 8,
   "metadata": {},
   "outputs": [
    {
     "name": "stdout",
     "output_type": "stream",
     "text": [
      "What text do you wish to encrypt? Pau\n"
     ]
    },
    {
     "data": {
      "text/plain": [
       "'0101110001-1000111001-1010111000'"
      ]
     },
     "execution_count": 8,
     "metadata": {},
     "output_type": "execute_result"
    }
   ],
   "source": [
    "def encryption_process():\n",
    "    text2encrypt=input(\"What text do you wish to encrypt? \")\n",
    "    blanklist=[]\n",
    "    for character in text2encrypt:\n",
    "        blanklist.append(character)\n",
    "    encrypting_characters=[]\n",
    "    for i in blanklist:\n",
    "        encrypting_characters.append(english_encrypting.get(i))\n",
    "    rosetta_characters=[]\n",
    "    for i in encrypting_characters:\n",
    "        rosetta_characters.append(rosetta_stone_encrypting.get(i))\n",
    "    encrypted_input = (\"-\".join(rosetta_characters))\n",
    "    return encrypted_input\n",
    "encryption_process()"
   ]
  },
  {
   "cell_type": "code",
   "execution_count": 9,
   "metadata": {},
   "outputs": [
    {
     "name": "stdout",
     "output_type": "stream",
     "text": [
      "What text do you wish to decrypt? 0101110001-1000111001-1010111000\n"
     ]
    },
    {
     "data": {
      "text/plain": [
       "'Pau'"
      ]
     },
     "execution_count": 9,
     "metadata": {},
     "output_type": "execute_result"
    }
   ],
   "source": [
    "def decryption_process():\n",
    "    text2encrypt=input(\"What text do you wish to decrypt? \")\n",
    "    blanklist=text2encrypt.split(\"-\")\n",
    "    rosetta_characters=[]\n",
    "    for i in blanklist:\n",
    "        rosetta_characters.append(rosetta_stone_decrypting.get(i))\n",
    "    english_characters=[]\n",
    "    for i in rosetta_characters:\n",
    "        english_characters.append(english_decrypting.get(i))\n",
    "    decrypted_output=(\"\".join(english_characters))\n",
    "    return decrypted_output\n",
    "decryption_process()"
   ]
  },
  {
   "cell_type": "code",
   "execution_count": 10,
   "metadata": {},
   "outputs": [
    {
     "name": "stdout",
     "output_type": "stream",
     "text": [
      "Do you want to encrypt or decrypt a message? (please type encrypt/decrypt)encrypt\n",
      "What text do you wish to encrypt? No standup report\n",
      "0010111001-0010110011-1010110100-0101000111-0100110101-1000111001-0111010010-0011001101-1010111000-0101100011-1010110100-1101110000-1010101100-0101100011-0010110011-1101110000-0100110101\n"
     ]
    }
   ],
   "source": [
    "decision=input(\"Do you want to encrypt or decrypt a message? (please type encrypt/decrypt)\")\n",
    "while (decision!=\"encrypt\") and (decision!=\"decrypt\"):\n",
    "    decision=input(\"Oops! I didn't understand! Do you want to encrypt or decrypt?\"\n",
    "                   \"(please type encrypt or decrypt)\")\n",
    "if decision == \"encrypt\":\n",
    "    print(encryption_process())\n",
    "else:\n",
    "    print(decryption_process())"
   ]
  }
 ],
 "metadata": {
  "kernelspec": {
   "display_name": "Python 3",
   "language": "python",
   "name": "python3"
  },
  "language_info": {
   "codemirror_mode": {
    "name": "ipython",
    "version": 3
   },
   "file_extension": ".py",
   "mimetype": "text/x-python",
   "name": "python",
   "nbconvert_exporter": "python",
   "pygments_lexer": "ipython3",
   "version": "3.8.3"
  }
 },
 "nbformat": 4,
 "nbformat_minor": 4
}
